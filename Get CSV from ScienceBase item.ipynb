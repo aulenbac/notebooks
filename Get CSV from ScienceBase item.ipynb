{
 "cells": [
  {
   "cell_type": "code",
   "execution_count": 1,
   "metadata": {},
   "outputs": [],
   "source": [
    "import requests\n",
    "import pandas as pd"
   ]
  },
  {
   "cell_type": "code",
   "execution_count": 2,
   "metadata": {},
   "outputs": [],
   "source": [
    "sb_item = requests.get(\"https://www.sciencebase.gov/catalog/item/57026390e4b0328dcb810247?format=json&fields=files\").json()"
   ]
  },
  {
   "cell_type": "code",
   "execution_count": 3,
   "metadata": {},
   "outputs": [
    {
     "data": {
      "text/plain": [
       "[{'cuid': None,\n",
       "  'key': None,\n",
       "  'bucket': None,\n",
       "  'published': None,\n",
       "  'node': None,\n",
       "  'name': 'Wabash_Data.csv',\n",
       "  'title': '',\n",
       "  'contentType': 'text/csv',\n",
       "  'contentEncoding': None,\n",
       "  'pathOnDisk': '__disk__02/a2/12/02a212d6a4667b55b2ab9d2972a4aa425a6b5216',\n",
       "  'processed': False,\n",
       "  'processToken': None,\n",
       "  'imageWidth': None,\n",
       "  'imageHeight': None,\n",
       "  'size': 80884,\n",
       "  'dateUploaded': '2016-04-04T12:50:56Z',\n",
       "  'originalMetadata': False,\n",
       "  'useForPreview': False,\n",
       "  's3Object': None,\n",
       "  'checksum': None,\n",
       "  'url': 'https://www.sciencebase.gov/catalog/file/get/57026390e4b0328dcb810247?f=__disk__02%2Fa2%2F12%2F02a212d6a4667b55b2ab9d2972a4aa425a6b5216',\n",
       "  'downloadUri': 'https://www.sciencebase.gov/catalog/file/get/57026390e4b0328dcb810247?f=__disk__02%2Fa2%2F12%2F02a212d6a4667b55b2ab9d2972a4aa425a6b5216',\n",
       "  'viewUri': 'https://www.sciencebase.gov/catalog/file/get/57026390e4b0328dcb810247?f=__disk__02%2Fa2%2F12%2F02a212d6a4667b55b2ab9d2972a4aa425a6b5216&allowOpen=true'},\n",
       " {'cuid': None,\n",
       "  'key': None,\n",
       "  'bucket': None,\n",
       "  'published': None,\n",
       "  'node': None,\n",
       "  'name': 'Wabash_Standards.csv',\n",
       "  'title': '',\n",
       "  'contentType': 'text/csv',\n",
       "  'contentEncoding': None,\n",
       "  'pathOnDisk': '__disk__cf/d3/81/cfd381e40adb1a4bc9c1bcd94a3527f823778143',\n",
       "  'processed': False,\n",
       "  'processToken': None,\n",
       "  'imageWidth': None,\n",
       "  'imageHeight': None,\n",
       "  'size': 8246,\n",
       "  'dateUploaded': '2016-04-04T12:50:56Z',\n",
       "  'originalMetadata': False,\n",
       "  'useForPreview': False,\n",
       "  's3Object': None,\n",
       "  'checksum': None,\n",
       "  'url': 'https://www.sciencebase.gov/catalog/file/get/57026390e4b0328dcb810247?f=__disk__cf%2Fd3%2F81%2Fcfd381e40adb1a4bc9c1bcd94a3527f823778143',\n",
       "  'downloadUri': 'https://www.sciencebase.gov/catalog/file/get/57026390e4b0328dcb810247?f=__disk__cf%2Fd3%2F81%2Fcfd381e40adb1a4bc9c1bcd94a3527f823778143',\n",
       "  'viewUri': 'https://www.sciencebase.gov/catalog/file/get/57026390e4b0328dcb810247?f=__disk__cf%2Fd3%2F81%2Fcfd381e40adb1a4bc9c1bcd94a3527f823778143&allowOpen=true'}]"
      ]
     },
     "execution_count": 3,
     "metadata": {},
     "output_type": "execute_result"
    }
   ],
   "source": [
    "[f for f in sb_item[\"files\"] if f[\"contentType\"] == \"text/csv\"]"
   ]
  },
  {
   "cell_type": "code",
   "execution_count": 5,
   "metadata": {},
   "outputs": [],
   "source": [
    "sample_file_url = next((f[\"url\"] for f in sb_item[\"files\"] if f[\"contentType\"] == \"text/csv\" and f[\"name\"] == \"Wabash_Data.csv\"), None)"
   ]
  },
  {
   "cell_type": "code",
   "execution_count": 6,
   "metadata": {},
   "outputs": [],
   "source": [
    "df_wabash_data = pd.read_csv(sample_file_url)"
   ]
  },
  {
   "cell_type": "code",
   "execution_count": 7,
   "metadata": {},
   "outputs": [
    {
     "data": {
      "text/html": [
       "<div>\n",
       "<style scoped>\n",
       "    .dataframe tbody tr th:only-of-type {\n",
       "        vertical-align: middle;\n",
       "    }\n",
       "\n",
       "    .dataframe tbody tr th {\n",
       "        vertical-align: top;\n",
       "    }\n",
       "\n",
       "    .dataframe thead th {\n",
       "        text-align: right;\n",
       "    }\n",
       "</style>\n",
       "<table border=\"1\" class=\"dataframe\">\n",
       "  <thead>\n",
       "    <tr style=\"text-align: right;\">\n",
       "      <th></th>\n",
       "      <th>Pos</th>\n",
       "      <th>Sample</th>\n",
       "      <th>Ct.FAM</th>\n",
       "      <th>DAY</th>\n",
       "      <th>SITE</th>\n",
       "      <th>Analysis.Date</th>\n",
       "      <th>Copies</th>\n",
       "    </tr>\n",
       "  </thead>\n",
       "  <tbody>\n",
       "    <tr>\n",
       "      <th>0</th>\n",
       "      <td>A1</td>\n",
       "      <td>01A</td>\n",
       "      <td>33.83</td>\n",
       "      <td>149</td>\n",
       "      <td>Americus</td>\n",
       "      <td>19-Jul-13</td>\n",
       "      <td>240.544471</td>\n",
       "    </tr>\n",
       "    <tr>\n",
       "      <th>1</th>\n",
       "      <td>B1</td>\n",
       "      <td>01A</td>\n",
       "      <td>34.80</td>\n",
       "      <td>149</td>\n",
       "      <td>Americus</td>\n",
       "      <td>19-Jul-13</td>\n",
       "      <td>121.392436</td>\n",
       "    </tr>\n",
       "    <tr>\n",
       "      <th>2</th>\n",
       "      <td>A2</td>\n",
       "      <td>02A</td>\n",
       "      <td>NaN</td>\n",
       "      <td>149</td>\n",
       "      <td>Americus</td>\n",
       "      <td>19-Jul-13</td>\n",
       "      <td>NaN</td>\n",
       "    </tr>\n",
       "    <tr>\n",
       "      <th>3</th>\n",
       "      <td>B2</td>\n",
       "      <td>02A</td>\n",
       "      <td>36.10</td>\n",
       "      <td>149</td>\n",
       "      <td>Americus</td>\n",
       "      <td>19-Jul-13</td>\n",
       "      <td>48.545096</td>\n",
       "    </tr>\n",
       "    <tr>\n",
       "      <th>4</th>\n",
       "      <td>A3</td>\n",
       "      <td>03A</td>\n",
       "      <td>34.95</td>\n",
       "      <td>149</td>\n",
       "      <td>Americus</td>\n",
       "      <td>19-Jul-13</td>\n",
       "      <td>109.210203</td>\n",
       "    </tr>\n",
       "  </tbody>\n",
       "</table>\n",
       "</div>"
      ],
      "text/plain": [
       "  Pos Sample  Ct.FAM  DAY      SITE Analysis.Date      Copies\n",
       "0  A1    01A   33.83  149  Americus     19-Jul-13  240.544471\n",
       "1  B1    01A   34.80  149  Americus     19-Jul-13  121.392436\n",
       "2  A2    02A     NaN  149  Americus     19-Jul-13         NaN\n",
       "3  B2    02A   36.10  149  Americus     19-Jul-13   48.545096\n",
       "4  A3    03A   34.95  149  Americus     19-Jul-13  109.210203"
      ]
     },
     "execution_count": 7,
     "metadata": {},
     "output_type": "execute_result"
    }
   ],
   "source": [
    "df_wabash_data.head()"
   ]
  },
  {
   "cell_type": "code",
   "execution_count": null,
   "metadata": {},
   "outputs": [],
   "source": []
  }
 ],
 "metadata": {
  "kernelspec": {
   "display_name": "Python 3",
   "language": "python",
   "name": "python3"
  },
  "language_info": {
   "codemirror_mode": {
    "name": "ipython",
    "version": 3
   },
   "file_extension": ".py",
   "mimetype": "text/x-python",
   "name": "python",
   "nbconvert_exporter": "python",
   "pygments_lexer": "ipython3",
   "version": "3.7.3"
  }
 },
 "nbformat": 4,
 "nbformat_minor": 2
}
